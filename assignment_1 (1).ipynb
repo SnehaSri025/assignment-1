{
  "nbformat": 4,
  "nbformat_minor": 0,
  "metadata": {
    "colab": {
      "provenance": [],
      "toc_visible": true
    },
    "kernelspec": {
      "name": "python3",
      "display_name": "Python 3"
    },
    "language_info": {
      "name": "python"
    }
  },
  "cells": [
    {
      "cell_type": "code",
      "execution_count": null,
      "metadata": {
        "id": "etZLQVgvpeJF"
      },
      "outputs": [],
      "source": []
    },
    {
      "cell_type": "markdown",
      "source": [
        "1.what is python,and why is it popular?\n",
        "  - python is a high-level,interpreted programming language.it is popular because easy to learn,versatile,large and active community of developers,extensive libraries.\n",
        "\n",
        "      "
      ],
      "metadata": {
        "id": "OH8Cs4SKp5ht"
      }
    },
    {
      "cell_type": "markdown",
      "source": [
        "2.what is an interpreter in python?\n",
        "  - It is an program that directly executes the code in a programming language,without compiling it into machine code.and it runs,parses,execute the code.\n"
      ],
      "metadata": {
        "id": "6ODSH7s54NhB"
      }
    },
    {
      "cell_type": "markdown",
      "source": [
        "3.what are pre-defined keywords in python?\n",
        "  - While,for,def,class,import,try,except,return,true,flase,none,etc."
      ],
      "metadata": {
        "id": "T8ds20P455DI"
      }
    },
    {
      "cell_type": "markdown",
      "source": [
        "4.can key words be used as variable names?\n",
        "  - No,in python keywords can not be used as variable names."
      ],
      "metadata": {
        "id": "dM7F3EVN6Sne"
      }
    },
    {
      "cell_type": "markdown",
      "source": [
        "5.what is mutability in python?\n",
        "  - In python ,objects can be either changeable (modifiable) or unchangeable.mutable objects ,such as lists and dictionaries,can be modified after creation .mutability affects how objects are stored and manipulated in memory ,impacting performance,memory usage,and concurrency in python programs."
      ],
      "metadata": {
        "id": "aSJ6jL6R6eFS"
      }
    },
    {
      "cell_type": "markdown",
      "source": [
        "6.why are lists mutable,but tuples are immutable?\n",
        "  - Lists are designed to be dynamic ans allowing elements to be add,remove and modified as needed.Tuples are designed to be static and providing a fixed collection of elements that can not be changed."
      ],
      "metadata": {
        "id": "d7oEbWCG6mGR"
      }
    },
    {
      "cell_type": "markdown",
      "source": [
        "7.what is the difference between \"==\"and \"is\" operators in python?\n",
        "  - The equality operator checks for value equality,it compares the values of two objects to determine they are equal or not.The is operator checks for object identity,it verifies if both variables refer to the same object in mwmory."
      ],
      "metadata": {
        "id": "veK4eaVR6zn4"
      }
    },
    {
      "cell_type": "markdown",
      "source": [
        "8.what are the logical operators in python?\n",
        "  - And,or,not."
      ],
      "metadata": {
        "id": "6rjrEx1H7IQg"
      }
    },
    {
      "cell_type": "markdown",
      "source": [
        "9.what is type casting in python?\n",
        "  - It also referred as type conversion,it is the process of changing one data type to another in python.It is necessary for performing arithmrtic operatios,data manipulation and input output operations in python programs."
      ],
      "metadata": {
        "id": "jEPrRxcv7RW-"
      }
    },
    {
      "cell_type": "markdown",
      "source": [
        "10.what is the difference between implicit and explicity type casting?\n",
        "   - Implicit casting occurs automatically,while explicit casting requires manual intervention.Explicit casting provides more control over type conversions,reducing potential errors."
      ],
      "metadata": {
        "id": "CtkrUbjV7Ycf"
      }
    },
    {
      "cell_type": "markdown",
      "source": [
        "11.what is the purpose of conditional statements in python?\n",
        "   - It is also known as if-else statements, allow your program to make decisions based on specific conditions.And the main purpose are control flow,decision making,handling different scenarios."
      ],
      "metadata": {
        "id": "dTRUGqKF7sWZ"
      }
    },
    {
      "cell_type": "markdown",
      "source": [
        "12.How does the elif statement work?\n",
        "   - It is used in conditional statements to check another condition if the initial condition is false.\n",
        "      If the initial if condition is true,the code within that blocks runs.\n",
        "      If the initial condition is flase,the program checks the elif condition\n",
        "      If the elif condition is true,the code within that block runs.\n",
        "\n",
        "\n",
        "\n"
      ],
      "metadata": {
        "id": "krqX1uNc76nk"
      }
    },
    {
      "cell_type": "markdown",
      "source": [
        "13.what is the difference between for and while loops?\n",
        "   - For loops are iterates over a sequence ,fixed number of iterations,easy to use compare to while loops are conditional loop,variable number of literations,more flexible."
      ],
      "metadata": {
        "id": "Oi1Whb288JNp"
      }
    },
    {
      "cell_type": "markdown",
      "source": [
        "14.Describe a scenaria where a while loop is more suitable than a for loop?\n",
        "   - A while loop is more suitable than a for loop when validating user input ,as the number of iterations is unknown and depends on the users actions."
      ],
      "metadata": {
        "id": "vUNUEuSG8Rwm"
      }
    },
    {
      "cell_type": "code",
      "source": [
        "# write a python program to print \"hello world\"\n",
        "print(\"hello world\")"
      ],
      "metadata": {
        "colab": {
          "base_uri": "https://localhost:8080/"
        },
        "id": "7DMIgE6biMgq",
        "outputId": "de2f58e5-10f7-4139-f899-da01ff13592f"
      },
      "execution_count": null,
      "outputs": [
        {
          "output_type": "stream",
          "name": "stdout",
          "text": [
            "hello world\n"
          ]
        }
      ]
    },
    {
      "cell_type": "code",
      "source": [
        "# Write a python program that displays your name and age\n",
        "name=input(\"please enter your name:\")\n",
        "age=int(input(\"enter your age:\"))\n",
        "print(\"my name is:\",name)\n",
        "print(\"my age is:\",age)\n"
      ],
      "metadata": {
        "id": "B7qcYT-Ci-ha",
        "colab": {
          "base_uri": "https://localhost:8080/"
        },
        "outputId": "5c901a60-173d-4220-feb0-ba1c8195ef1e"
      },
      "execution_count": null,
      "outputs": [
        {
          "output_type": "stream",
          "name": "stdout",
          "text": [
            "please enter your name:\"sneha\"\n",
            "enter your age:24\n",
            "my name is: \"sneha\"\n",
            "my age is: 24\n"
          ]
        }
      ]
    },
    {
      "cell_type": "code",
      "source": [
        "#write code to print all the pre-defined keywords in python using the keyword library.\n",
        "import keyword\n",
        "print(keyword.kwlist)"
      ],
      "metadata": {
        "colab": {
          "base_uri": "https://localhost:8080/"
        },
        "id": "_IC2rDHGwru3",
        "outputId": "c144c378-dc1f-4f0f-bc0f-94394daa6f9e"
      },
      "execution_count": null,
      "outputs": [
        {
          "output_type": "stream",
          "name": "stdout",
          "text": [
            "['False', 'None', 'True', 'and', 'as', 'assert', 'async', 'await', 'break', 'class', 'continue', 'def', 'del', 'elif', 'else', 'except', 'finally', 'for', 'from', 'global', 'if', 'import', 'in', 'is', 'lambda', 'nonlocal', 'not', 'or', 'pass', 'raise', 'return', 'try', 'while', 'with', 'yield']\n"
          ]
        }
      ]
    },
    {
      "cell_type": "code",
      "source": [
        "#write a program that checks if a given word is a python keyword.\n",
        "'''python\n",
        "import keyword\n",
        "\n",
        "word=input(\"enter a word:\")\n",
        "\n",
        "if keyword.iskeyword(word):\n",
        "  print(f\"(word)is a python keyword.\")\n",
        "else:\n",
        "  print(f\"(word)is npt a python keyword.\")\n",
        "'''"
      ],
      "metadata": {
        "colab": {
          "base_uri": "https://localhost:8080/",
          "height": 53
        },
        "id": "Ku03p6BquviM",
        "outputId": "ed707ba0-42ef-4be8-eaec-1a7fbf31a315"
      },
      "execution_count": null,
      "outputs": [
        {
          "output_type": "execute_result",
          "data": {
            "text/plain": [
              "'python\\nimport keyword\\n\\nword=input(\"enter a word:\")\\n\\nif keyword.iskeyword(word):\\n  print(f\"(word)is a python keyword.\")\\nelse:\\n  print(f\"(word)is npt a python keyword.\")\\n'"
            ],
            "application/vnd.google.colaboratory.intrinsic+json": {
              "type": "string"
            }
          },
          "metadata": {},
          "execution_count": 9
        }
      ]
    },
    {
      "cell_type": "code",
      "source": [
        "#create a list and tuple in python,and demonstrate how attempting to change an element works differently for each\n",
        "'''python\n",
        "#creating a list\n",
        "my_list=[1,2,3,4,5]\n",
        "\n",
        "#attempting to change an element in the list\n",
        "my_list[2]=10\n",
        "\n",
        "#priting the updated list\n",
        "print(\"updated list:\",my_list)\n",
        "\n",
        "#creating a tuple\n",
        "my_tuple=(1,2,3,4,5)\n",
        "\n",
        "#attempting to change an element in the tuple\n",
        " my_list[2]=10\n",
        "except type error as e:\n",
        "  print(\"error:\",e)\n",
        "\n",
        "#printing the updated tuple(unchanged)\n",
        "  print (\"tuple:\",my_tuple)\n",
        "'''\n"
      ],
      "metadata": {
        "colab": {
          "base_uri": "https://localhost:8080/",
          "height": 70
        },
        "id": "T-1jb4x0zfa-",
        "outputId": "2067beb4-4027-497e-dbc4-068101e15f29"
      },
      "execution_count": null,
      "outputs": [
        {
          "output_type": "execute_result",
          "data": {
            "text/plain": [
              "'python\\n#creating a list\\nmy_list=[1,2,3,4,5]\\n\\n#attempting to change an element in the list\\nmy_list[2]=10\\n\\n#priting the updated list \\nprint(\"updated list:\",my_list)\\n \\n#creating a tuple\\nmy_tuple=(1,2,3,4,5)\\n\\n#attempting to change an element in the tuple\\n my_list[2]=10\\nexcept type error as e:\\n  print(\"error:\",e)\\n\\n#printing the updated tuple(unchanged)\\n  print (\"tuple:\",my_tuple)\\n'"
            ],
            "application/vnd.google.colaboratory.intrinsic+json": {
              "type": "string"
            }
          },
          "metadata": {},
          "execution_count": 10
        }
      ]
    },
    {
      "cell_type": "code",
      "source": [
        "#write a program that performs basic arithmetic operations on two user-input numbers.\n",
        "num1=float(input(\"enter the first number:\"))\n",
        "num2=float(input(\"enter the second number:\"))\n",
        "\n",
        "print(\"choose an operation:\")\n",
        "print(\"1.add\")\n",
        "print(\"2.subtract\")\n",
        "print(\"3.multiply\")\n",
        "print(\"4.divide\")\n",
        "\n",
        "choice=input(\"enter choice (1/2/3/4):\")\n",
        "\n",
        "if choice=='1':\n",
        "  result=num1+num2\n",
        "  print(num1,\"+\",num2,\"=\",result)\n",
        "elif choice =='2':\n",
        "  result=num1-num2\n",
        "  print(num1,\"-\",num2,\"=\",result)\n",
        "elif choice=='2':\n",
        "  result=num1-num2\n",
        "  print(num1,\"-\",num2,\"=\",result)\n",
        "elif choice=='3':\n",
        "  result=num1*num2\n",
        "  print(num1,\"*\",num2,\"=\",result)\n",
        "elif choice=='4':\n",
        "  if num2==0:\n",
        "   print(\"division by zero is not allowed!\")\n",
        "else:\n",
        "   result=num1/num2\n",
        "   print(num1,\"/\",num2,\"=\",result)\n",
        "   print(\"invalid input.please enter a number between 1 and 4.\")\n"
      ],
      "metadata": {
        "colab": {
          "base_uri": "https://localhost:8080/"
        },
        "id": "jcTNrYvu2tKk",
        "outputId": "679e4bf8-244d-4cc4-b874-bf6c886f3ba3"
      },
      "execution_count": null,
      "outputs": [
        {
          "output_type": "stream",
          "name": "stdout",
          "text": [
            "enter the first number:1\n",
            "enter the second number:2\n",
            "choose an operation:\n",
            "1.add\n",
            "2.subtract\n",
            "3.multiply\n",
            "4.divide\n",
            "enter choice (1/2/3/4):1\n",
            "1.0 + 2.0 = 3.0\n"
          ]
        }
      ]
    },
    {
      "cell_type": "code",
      "source": [
        "#write a program to demonstrate the use of logical operators'\n",
        "a=10\n",
        "b=5\n",
        "\n",
        "#AND operator\n",
        "print(\"a or b:\",a or b) # output:5(true or true is true,so it returns the first operand)\n",
        "\n",
        "#OR operator\n",
        "print(\"a or b:,a or b\") # output:10(true or true is true,so it returns the first operand)\n",
        "\n",
        "#NOT operator\n",
        "print(\"not a:\", not a) # output :false (not true is false)\n",
        "\n",
        "#combining logical operators\n",
        "print(\"a>5 and b>10:\", a>5 and b<10)\n",
        "#output:true (both conditions are true)\n",
        "print(\"a<5 or b>10:\",a<5 or b>10)\n",
        "#output:false (both conditions are false)"
      ],
      "metadata": {
        "colab": {
          "base_uri": "https://localhost:8080/"
        },
        "id": "oL43QL_g-v05",
        "outputId": "d3a21a33-4fb6-4239-b0fe-39381419b653"
      },
      "execution_count": null,
      "outputs": [
        {
          "output_type": "stream",
          "name": "stdout",
          "text": [
            "a or b: 10\n",
            "a or b:,a or b\n",
            "not a: False\n",
            "a>5 and b>10: True\n",
            "a<5 or b>10: False\n"
          ]
        }
      ]
    },
    {
      "cell_type": "code",
      "source": [
        "#write a python pragram to convert user input from string to integer ,float,and boolean types.\n",
        "User_input=input(\"enter a value:\")\n",
        "\n",
        "try:\n",
        "  #convert to integer\n",
        "  integer_value=int(user_input)\n",
        "  print(\"integer:\",integer_value)\n",
        "\n",
        "except ValueErrorr:\n",
        "   try:\n",
        "     #convert to float\n",
        "     float_value=float(user_input)\n",
        "     print(\"float:\",float_value)\n",
        "\n",
        "except ValueError:\n",
        "    try:\n",
        "    #convert to boolean\n",
        "   if user_input.lower()in(\"true\", \"t\",\"1\"):\n",
        "      boolean_value=True\n",
        "    elif user_input.lower() in (\"false\", \"f\",\"0\"):\n",
        "      boolean_value=false\n",
        "    else:\n",
        "       raise ValueError|\n",
        "    print(\"boolean:\",boolean_value)\n",
        "\n",
        "  except ValueError:\n",
        "    print(\"invalid input.cannot convert to integer,float,or boolean.\")\n"
      ],
      "metadata": {
        "colab": {
          "base_uri": "https://localhost:8080/",
          "height": 106
        },
        "id": "c_1HP4QEo4Ro",
        "outputId": "764d3c30-71cf-4b6f-fad9-41c823a47bd4"
      },
      "execution_count": null,
      "outputs": [
        {
          "output_type": "error",
          "ename": "SyntaxError",
          "evalue": "expected 'except' or 'finally' block (<ipython-input-16-baad1a02a25c>, line 15)",
          "traceback": [
            "\u001b[0;36m  File \u001b[0;32m\"<ipython-input-16-baad1a02a25c>\"\u001b[0;36m, line \u001b[0;32m15\u001b[0m\n\u001b[0;31m    except ValueError:\u001b[0m\n\u001b[0m                      ^\u001b[0m\n\u001b[0;31mSyntaxError\u001b[0m\u001b[0;31m:\u001b[0m expected 'except' or 'finally' block\n"
          ]
        }
      ]
    },
    {
      "cell_type": "code",
      "source": [
        "#write a program that checks if a number is positive,negative,or zero\n",
        "num=float(input(\"enter a number:\"))\n",
        "if num>0:\n",
        "  print(\"the number is positive,\")\n",
        "elif num<0:\n",
        "    print(\"the number is negative,\")\n",
        "else:\n",
        "    print(\"the number is zero,\")\n"
      ],
      "metadata": {
        "colab": {
          "base_uri": "https://localhost:8080/"
        },
        "id": "ABb8XXHCLqGF",
        "outputId": "0b26f901-b7cf-4457-f3aa-5a074e7f4ce5"
      },
      "execution_count": null,
      "outputs": [
        {
          "output_type": "stream",
          "name": "stdout",
          "text": [
            "enter a number:6\n",
            "the number is positive,\n"
          ]
        }
      ]
    },
    {
      "cell_type": "code",
      "source": [
        "#write a for loop to print numbers from 1 to 10\n",
        "for i in range(1,11):\n",
        "  print(i)"
      ],
      "metadata": {
        "colab": {
          "base_uri": "https://localhost:8080/"
        },
        "id": "U4jBOvulR4bz",
        "outputId": "8f4cb7b9-0805-4a5d-df81-275e67cd89d0"
      },
      "execution_count": null,
      "outputs": [
        {
          "output_type": "stream",
          "name": "stdout",
          "text": [
            "1\n",
            "2\n",
            "3\n",
            "4\n",
            "5\n",
            "6\n",
            "7\n",
            "8\n",
            "9\n",
            "10\n"
          ]
        }
      ]
    },
    {
      "cell_type": "code",
      "source": [
        "#write the python code program to find the sum of all even numbers between 1 and 50\n",
        "sum=0\n",
        "for i in range(2,51,2):\n",
        "  sum+=i\n",
        "  print(\"sum of even numbers between 1 and 50:\",sum)"
      ],
      "metadata": {
        "colab": {
          "base_uri": "https://localhost:8080/"
        },
        "id": "SUQBFMtySMSs",
        "outputId": "524f9dc1-999a-42b6-f852-a617723493c9"
      },
      "execution_count": null,
      "outputs": [
        {
          "output_type": "stream",
          "name": "stdout",
          "text": [
            "sum of even numbers between 1 and 50: 2\n",
            "sum of even numbers between 1 and 50: 6\n",
            "sum of even numbers between 1 and 50: 12\n",
            "sum of even numbers between 1 and 50: 20\n",
            "sum of even numbers between 1 and 50: 30\n",
            "sum of even numbers between 1 and 50: 42\n",
            "sum of even numbers between 1 and 50: 56\n",
            "sum of even numbers between 1 and 50: 72\n",
            "sum of even numbers between 1 and 50: 90\n",
            "sum of even numbers between 1 and 50: 110\n",
            "sum of even numbers between 1 and 50: 132\n",
            "sum of even numbers between 1 and 50: 156\n",
            "sum of even numbers between 1 and 50: 182\n",
            "sum of even numbers between 1 and 50: 210\n",
            "sum of even numbers between 1 and 50: 240\n",
            "sum of even numbers between 1 and 50: 272\n",
            "sum of even numbers between 1 and 50: 306\n",
            "sum of even numbers between 1 and 50: 342\n",
            "sum of even numbers between 1 and 50: 380\n",
            "sum of even numbers between 1 and 50: 420\n",
            "sum of even numbers between 1 and 50: 462\n",
            "sum of even numbers between 1 and 50: 506\n",
            "sum of even numbers between 1 and 50: 552\n",
            "sum of even numbers between 1 and 50: 600\n",
            "sum of even numbers between 1 and 50: 650\n"
          ]
        }
      ]
    },
    {
      "cell_type": "code",
      "source": [
        "#write a python program tp calculate the factorial of numbers provided by the user using a while loop\n",
        "num=int(input(\"enter a number:\"))\n",
        "factorial=1\n",
        "i=1\n",
        "while i<=num:\n",
        "  factorial*=i\n",
        "  i+=1\n",
        "  print(\"factorial of\",num,\"is\",factorial)"
      ],
      "metadata": {
        "colab": {
          "base_uri": "https://localhost:8080/"
        },
        "id": "NghPvE-IVSGX",
        "outputId": "64ebfe9a-cd6f-47fb-8fb6-26c7a74537f0"
      },
      "execution_count": null,
      "outputs": [
        {
          "output_type": "stream",
          "name": "stdout",
          "text": [
            "enter a number:1\n",
            "factorial of 1 is 1\n"
          ]
        }
      ]
    },
    {
      "cell_type": "code",
      "source": [
        "\n",
        "#write a program to reverse a string using a while loop.\n",
        "string=input(\"enter a string:\")\n",
        "reversed_string=\"\"\n",
        "index=len(string)-1\n",
        "\n",
        "while index >= 0:\n",
        " reversed_string += string[index]\n",
        " index-=1\n",
        "print(\"reversed string:\",reversed_string)\n"
      ],
      "metadata": {
        "colab": {
          "base_uri": "https://localhost:8080/"
        },
        "id": "ZPFVxXobhsso",
        "outputId": "cd6fa185-76a2-47d8-80c2-feac5be6363c"
      },
      "execution_count": null,
      "outputs": [
        {
          "output_type": "stream",
          "name": "stdout",
          "text": [
            "enter a string:sneha\n",
            "reversed string: ahens\n"
          ]
        }
      ]
    },
    {
      "cell_type": "code",
      "source": [],
      "metadata": {
        "id": "SPyt3ipImOr1"
      },
      "execution_count": null,
      "outputs": []
    }
  ]
}